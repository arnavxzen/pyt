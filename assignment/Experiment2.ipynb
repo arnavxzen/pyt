{
  "cells": [
    {
      "cell_type": "markdown",
      "metadata": {
        "id": "MEJMvingSVD9"
      },
      "source": [
        "1. Declare these variables (x, y and z) as integers. Assign a value of 9 to x, Assign a value of 7 to y, perform addition, multiplication, division and subtraction on these two variables and Print out the result."
      ]
    },
    {
      "cell_type": "code",
      "execution_count": 1,
      "metadata": {
        "id": "xNy4pCo-SVD-",
        "outputId": "0e9c78d9-64a2-4044-8f35-11dc43e2aaa9",
        "colab": {
          "base_uri": "https://localhost:8080/"
        }
      },
      "outputs": [
        {
          "output_type": "stream",
          "name": "stdout",
          "text": [
            "Addition: 16\n",
            "Multiplication: 63\n",
            "Division: 1.2857142857142858\n",
            "Subtraction: 2\n"
          ]
        }
      ],
      "source": [
        "x = 9\n",
        "y = 7\n",
        "\n",
        "addition = x + y\n",
        "multiplication = x * y\n",
        "division = x / y\n",
        "subtraction = x - y\n",
        "\n",
        "print(\"Addition:\", addition)\n",
        "print(\"Multiplication:\", multiplication)\n",
        "print(\"Division:\", division)\n",
        "print(\"Subtraction:\", subtraction)"
      ]
    },
    {
      "cell_type": "markdown",
      "metadata": {
        "id": "sBhtzmHzSVD_"
      },
      "source": [
        "2. Write a Program where the radius is taken as input to compute the area of a circle."
      ]
    },
    {
      "cell_type": "code",
      "execution_count": 2,
      "metadata": {
        "id": "VcE-GeuJSVEA",
        "outputId": "74ff42b1-10fa-4f32-d709-3866122339c8",
        "colab": {
          "base_uri": "https://localhost:8080/"
        }
      },
      "outputs": [
        {
          "output_type": "stream",
          "name": "stdout",
          "text": [
            "Enter the radius of the circle: 2\n",
            "Area of the circle: 12.566370614359172\n"
          ]
        }
      ],
      "source": [
        "import math\n",
        "\n",
        "radius = float(input(\"Enter the radius of the circle: \"))\n",
        "area = math.pi * radius ** 2\n",
        "print(\"Area of the circle:\", area)"
      ]
    },
    {
      "cell_type": "markdown",
      "metadata": {
        "id": "HyjnU7bjSVEA"
      },
      "source": [
        "3. Write a Python program to solve (x+y)*(x+y)"
      ]
    },
    {
      "cell_type": "code",
      "execution_count": 3,
      "metadata": {
        "id": "zkUzwBfYSVEA",
        "outputId": "6a64c1cb-ac3c-4813-8218-cedb5899fbe1",
        "colab": {
          "base_uri": "https://localhost:8080/"
        }
      },
      "outputs": [
        {
          "output_type": "stream",
          "name": "stdout",
          "text": [
            "Result of (x+y)*(x+y): 49\n"
          ]
        }
      ],
      "source": [
        "x = 4\n",
        "y = 3\n",
        "result = (x + y) * (x + y)\n",
        "print(\"Result of (x+y)*(x+y):\", result)"
      ]
    },
    {
      "cell_type": "markdown",
      "metadata": {
        "id": "XDoECC95SVEA"
      },
      "source": [
        "4. Write a program to compute the length of the hypotenuse (c) of a right triangle using Pythagoras theorem."
      ]
    },
    {
      "cell_type": "code",
      "execution_count": 4,
      "metadata": {
        "id": "dwiTrujcSVEB",
        "outputId": "59ccb531-5e96-4fad-9339-8e389e76e1f7",
        "colab": {
          "base_uri": "https://localhost:8080/"
        }
      },
      "outputs": [
        {
          "output_type": "stream",
          "name": "stdout",
          "text": [
            "Enter the length of side a: 7\n",
            "Enter the length of side b: 8\n",
            "Length of the hypotenuse: 10.63014581273465\n"
          ]
        }
      ],
      "source": [
        "import math\n",
        "\n",
        "a = float(input(\"Enter the length of side a: \"))\n",
        "b = float(input(\"Enter the length of side b: \"))\n",
        "c = math.sqrt(a**2 + b**2)\n",
        "print(\"Length of the hypotenuse:\", c)"
      ]
    },
    {
      "cell_type": "markdown",
      "metadata": {
        "id": "r8KXA351SVEB"
      },
      "source": [
        "5. Write a program to find simple interest."
      ]
    },
    {
      "cell_type": "code",
      "execution_count": 5,
      "metadata": {
        "id": "HUFkfNNVSVEB",
        "outputId": "77206bbc-630e-452a-9ab2-96b10f4e81c5",
        "colab": {
          "base_uri": "https://localhost:8080/"
        }
      },
      "outputs": [
        {
          "output_type": "stream",
          "name": "stdout",
          "text": [
            "Enter the principal amount: 7788\n",
            "Enter the rate of interest: 7\n",
            "Enter the time in years: 8\n",
            "Simple Interest: 4361.28\n"
          ]
        }
      ],
      "source": [
        "principal = float(input(\"Enter the principal amount: \"))\n",
        "rate = float(input(\"Enter the rate of interest: \"))\n",
        "time = float(input(\"Enter the time in years: \"))\n",
        "simple_interest = (principal * rate * time) / 100\n",
        "print(\"Simple Interest:\", simple_interest)"
      ]
    },
    {
      "cell_type": "markdown",
      "metadata": {
        "id": "3WOHHMcrSVEC"
      },
      "source": [
        "6. Write a program to find area of triangle when length of sides are given."
      ]
    },
    {
      "cell_type": "code",
      "execution_count": 7,
      "metadata": {
        "id": "QfjZ15PASVEC",
        "outputId": "a781c82f-65dd-43c6-95e0-be5062b881ad",
        "colab": {
          "base_uri": "https://localhost:8080/"
        }
      },
      "outputs": [
        {
          "output_type": "stream",
          "name": "stdout",
          "text": [
            "Enter the length of side a: 7\n",
            "Enter the length of side b: 8\n",
            "Enter the length of side c: 8\n",
            "Area of the triangle: 25.17811549739178\n"
          ]
        }
      ],
      "source": [
        "import math\n",
        "\n",
        "a = float(input(\"Enter the length of side a: \"))\n",
        "b = float(input(\"Enter the length of side b: \"))\n",
        "c = float(input(\"Enter the length of side c: \"))\n",
        "s = (a + b + c) / 2\n",
        "area = math.sqrt(s * (s - a) * (s - b) * (s - c))\n",
        "print(\"Area of the triangle:\", area)"
      ]
    },
    {
      "cell_type": "markdown",
      "metadata": {
        "id": "y6pchFWFSVEC"
      },
      "source": [
        "7. Write a program to convert given seconds into hours, minutes and remaining seconds."
      ]
    },
    {
      "cell_type": "code",
      "execution_count": 8,
      "metadata": {
        "id": "GCHLO1geSVEC",
        "outputId": "1a224057-44af-474b-9355-94f34ce0cfad",
        "colab": {
          "base_uri": "https://localhost:8080/"
        }
      },
      "outputs": [
        {
          "output_type": "stream",
          "name": "stdout",
          "text": [
            "Enter the total seconds: 55\n",
            "0 hours, 0 minutes, 55 seconds\n"
          ]
        }
      ],
      "source": [
        "total_seconds = int(input(\"Enter the total seconds: \"))\n",
        "hours = total_seconds // 3600\n",
        "minutes = (total_seconds % 3600) // 60\n",
        "seconds = total_seconds % 60\n",
        "print(f\"{hours} hours, {minutes} minutes, {seconds} seconds\")"
      ]
    },
    {
      "cell_type": "markdown",
      "metadata": {
        "id": "8Pg6xZjkSVEC"
      },
      "source": [
        "8. Write a program to swap two numbers without taking additional variable."
      ]
    },
    {
      "cell_type": "code",
      "execution_count": 9,
      "metadata": {
        "id": "4-Xz7I9rSVEC",
        "outputId": "2125afd3-b43d-4c8c-b129-d0e376f9ebee",
        "colab": {
          "base_uri": "https://localhost:8080/"
        }
      },
      "outputs": [
        {
          "output_type": "stream",
          "name": "stdout",
          "text": [
            "Enter the first number: 78\n",
            "Enter the second number: 54\n",
            "After swapping: a = 54 b = 78\n"
          ]
        }
      ],
      "source": [
        "a = int(input(\"Enter the first number: \"))\n",
        "b = int(input(\"Enter the second number: \"))\n",
        "a, b = b, a\n",
        "print(\"After swapping: a =\", a, \"b =\", b)"
      ]
    },
    {
      "cell_type": "markdown",
      "metadata": {
        "id": "9yURiky3SVEC"
      },
      "source": [
        "9. Write a program to find sum of first n natural numbers."
      ]
    },
    {
      "cell_type": "code",
      "execution_count": 10,
      "metadata": {
        "id": "ZP7qJwWnSVEC",
        "outputId": "f7c4ff3c-e7a9-4727-fbcb-1c8ce11b8f41",
        "colab": {
          "base_uri": "https://localhost:8080/"
        }
      },
      "outputs": [
        {
          "output_type": "stream",
          "name": "stdout",
          "text": [
            "Enter the value of n: 45\n",
            "Sum of first 45 natural numbers: 1035\n"
          ]
        }
      ],
      "source": [
        "n = int(input(\"Enter the value of n: \"))\n",
        "sum_n = n * (n + 1) // 2\n",
        "print(\"Sum of first\", n, \"natural numbers:\", sum_n)"
      ]
    },
    {
      "cell_type": "markdown",
      "metadata": {
        "id": "4RsBKbF4SVEC"
      },
      "source": [
        "10. Write a program to print truth table for bitwise operators( & , | and ^ operators)"
      ]
    },
    {
      "cell_type": "code",
      "execution_count": null,
      "metadata": {
        "id": "TvjBvYm-SVED"
      },
      "outputs": [],
      "source": [
        "print(\"A B A&B A|B A^B\")\n",
        "for A in [0, 1]:\n",
        "    for B in [0, 1]:\n",
        "        print(f\"{A} {B} {A&B} {A|B} {A^B}\")"
      ]
    },
    {
      "cell_type": "markdown",
      "metadata": {
        "id": "0LwHjIuTSVED"
      },
      "source": [
        "11. Write a program to find left shift and right shift values of a given number."
      ]
    },
    {
      "cell_type": "code",
      "execution_count": null,
      "metadata": {
        "id": "2ttd1hkWSVED"
      },
      "outputs": [],
      "source": [
        "num = int(input(\"Enter a number: \"))\n",
        "left_shift = num << 1\n",
        "right_shift = num >> 1\n",
        "print(\"Left Shift:\", left_shift)\n",
        "print(\"Right Shift:\", right_shift)"
      ]
    }
  ],
  "metadata": {
    "kernelspec": {
      "display_name": "Python 3",
      "language": "python",
      "name": "python3"
    },
    "language_info": {
      "codemirror_mode": {
        "name": "ipython",
        "version": 3
      },
      "file_extension": ".py",
      "mimetype": "text/x-python",
      "name": "python",
      "nbconvert_exporter": "python",
      "pygments_lexer": "ipython3",
      "version": "3.13.1"
    },
    "colab": {
      "provenance": []
    }
  },
  "nbformat": 4,
  "nbformat_minor": 0
}