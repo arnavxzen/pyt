{
  "cells": [
    {
      "cell_type": "markdown",
      "metadata": {
        "id": "JNYdlzTPSKrY"
      },
      "source": [
        "1. print string in the given manner"
      ]
    },
    {
      "cell_type": "code",
      "execution_count": 1,
      "metadata": {
        "id": "uMF9-oH7SKra",
        "outputId": "a6f444a2-bc61-4f1a-c020-26900f87ba4e",
        "colab": {
          "base_uri": "https://localhost:8080/"
        }
      },
      "outputs": [
        {
          "output_type": "stream",
          "name": "stdout",
          "text": [
            "Hello Everyone !!!\n",
            "Hello\n",
            "World\n",
            "Hello\n",
            "\t\tWorld\n",
            "' Arnav' s date of birth is 01\\01\\2001'\n"
          ]
        }
      ],
      "source": [
        "# a)\n",
        "print(\"Hello Everyone !!!\")\n",
        "\n",
        "# b)\n",
        "print(\"Hello\\nWorld\")\n",
        "\n",
        "# c)\n",
        "print(\"Hello\\n\\t\\tWorld\")\n",
        "\n",
        "# d)\n",
        "print(\"' Arnav' s date of birth is 01\\\\01\\\\2001'\")"
      ]
    },
    {
      "cell_type": "markdown",
      "metadata": {
        "id": "5x9AGyZySKrc"
      },
      "source": [
        "2. Declare a string variable called x and assign it the value “Hello”. Print out the value of x"
      ]
    },
    {
      "cell_type": "code",
      "execution_count": 7,
      "metadata": {
        "id": "Lg7DQM8zSKrd",
        "outputId": "3c8874f9-52aa-475d-d4f8-30267d3efa9d",
        "colab": {
          "base_uri": "https://localhost:8080/"
        }
      },
      "outputs": [
        {
          "output_type": "stream",
          "name": "stdout",
          "text": [
            "Hello\n"
          ]
        }
      ],
      "source": [
        "x = \"Hello\"\n",
        "print(x)"
      ]
    },
    {
      "cell_type": "markdown",
      "metadata": {
        "id": "APgYRVu2SKrd"
      },
      "source": [
        "3. Take different data types and print values using print function"
      ]
    },
    {
      "cell_type": "code",
      "execution_count": 6,
      "metadata": {
        "id": "OduTwzK1SKrd",
        "outputId": "2d0167f6-6ec7-428b-d657-5f10191a8d87",
        "colab": {
          "base_uri": "https://localhost:8080/"
        }
      },
      "outputs": [
        {
          "output_type": "stream",
          "name": "stdout",
          "text": [
            "10\n",
            "10.5\n",
            "Hello\n",
            "True\n"
          ]
        }
      ],
      "source": [
        "integer_var = 10\n",
        "float_var = 10.5\n",
        "string_var = \"Hello\"\n",
        "boolean_var = True\n",
        "\n",
        "print(integer_var)\n",
        "print(float_var)\n",
        "print(string_var)\n",
        "print(boolean_var)"
      ]
    },
    {
      "cell_type": "markdown",
      "metadata": {
        "id": "zjP8FR-3SKre"
      },
      "source": [
        "4. Take two variable a and b. Assign your first name and last name. Print your Name after adding your First name and Last name together"
      ]
    },
    {
      "cell_type": "code",
      "execution_count": 5,
      "metadata": {
        "id": "T4TT0bCySKre",
        "outputId": "3c50396b-07bc-4e96-839b-7afd618b66ad",
        "colab": {
          "base_uri": "https://localhost:8080/"
        }
      },
      "outputs": [
        {
          "output_type": "stream",
          "name": "stdout",
          "text": [
            "John thomas\n"
          ]
        }
      ],
      "source": [
        "a = \"John\"\n",
        "b = \"thomas\"\n",
        "print(a + \" \" + b)"
      ]
    },
    {
      "cell_type": "markdown",
      "metadata": {
        "id": "H1Xkd-rgSKre"
      },
      "source": [
        "5. Declare three variables, consisting of your first name, your last name and Nickname. Write a program that prints out your first name, then your nickname in parenthesis and then your last name."
      ]
    },
    {
      "cell_type": "code",
      "execution_count": 4,
      "metadata": {
        "id": "JdHmYjAvSKre",
        "outputId": "51de4e6a-2468-4b6f-ff79-be66e30e8857",
        "colab": {
          "base_uri": "https://localhost:8080/"
        }
      },
      "outputs": [
        {
          "output_type": "stream",
          "name": "stdout",
          "text": [
            "Arnav (aru) Tiwari\n"
          ]
        }
      ],
      "source": [
        "first_name = \"Arnav\"\n",
        "last_name = \"Tiwari\"\n",
        "nickname = \"aru\"\n",
        "print(f\"{first_name} ({nickname}) {last_name}\")"
      ]
    },
    {
      "cell_type": "markdown",
      "metadata": {
        "id": "vMHrP1teSKrf"
      },
      "source": [
        "6. Declare and assign values to suitable variables and print in the following way"
      ]
    },
    {
      "cell_type": "code",
      "execution_count": 3,
      "metadata": {
        "id": "wMD9sWZRSKrf",
        "outputId": "22e13806-936d-4265-912b-6274a75441cc",
        "colab": {
          "base_uri": "https://localhost:8080/"
        }
      },
      "outputs": [
        {
          "output_type": "stream",
          "name": "stdout",
          "text": [
            "NAME : Arnav Tiwari\n",
            "SAP ID : 590011418\n",
            "DATE OF BIRTH : 13 may 2006\n",
            "ADDRESS : UPES\n",
            "Bidholi Campus\n",
            "Pincode : 248007\n",
            "Programme : Btech cse\n",
            "Semester : 1\n"
          ]
        }
      ],
      "source": [
        "name = \"Arnav Tiwari\"\n",
        "sap_id = \"590011418\"\n",
        "dob = \"13 may 2006\"\n",
        "address = \"UPES\\nBidholi Campus\\nPincode : 248007\"\n",
        "programme = \"Btech cse\"\n",
        "semester = \"1\"\n",
        "\n",
        "print(f\"NAME : {name}\")\n",
        "print(f\"SAP ID : {sap_id}\")\n",
        "print(f\"DATE OF BIRTH : {dob}\")\n",
        "print(f\"ADDRESS : {address}\")\n",
        "print(f\"Programme : {programme}\")\n",
        "print(f\"Semester : {semester}\")"
      ]
    }
  ],
  "metadata": {
    "kernelspec": {
      "display_name": "Python 3",
      "language": "python",
      "name": "python3"
    },
    "language_info": {
      "codemirror_mode": {
        "name": "ipython",
        "version": 3
      },
      "file_extension": ".py",
      "mimetype": "text/x-python",
      "name": "python",
      "nbconvert_exporter": "python",
      "pygments_lexer": "ipython3",
      "version": "3.13.1"
    },
    "colab": {
      "provenance": []
    }
  },
  "nbformat": 4,
  "nbformat_minor": 0
}
