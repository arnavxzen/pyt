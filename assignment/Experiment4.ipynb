{
  "cells": [
    {
      "cell_type": "markdown",
      "metadata": {
        "id": "Ry3wr6JmUUnr"
      },
      "source": [
        "# 1. Find a factorial of given number."
      ]
    },
    {
      "cell_type": "code",
      "execution_count": 12,
      "metadata": {
        "colab": {
          "base_uri": "https://localhost:8080/"
        },
        "id": "kcoQ-GQaUUnt",
        "outputId": "ccd83296-89c7-4b9c-c2d4-634599910390"
      },
      "outputs": [
        {
          "output_type": "stream",
          "name": "stdout",
          "text": [
            "5\n",
            "120\n"
          ]
        }
      ],
      "source": [
        "fac: int = 1\n",
        "i: int  = int(input())\n",
        "while(i):\n",
        "    fac*=i\n",
        "    i-=1\n",
        "print(fac)"
      ]
    },
    {
      "cell_type": "markdown",
      "metadata": {
        "id": "WeYzm66RUUnu"
      },
      "source": [
        "# 2. Find whether the given number is Armstrong number."
      ]
    },
    {
      "cell_type": "code",
      "execution_count": 11,
      "metadata": {
        "colab": {
          "base_uri": "https://localhost:8080/"
        },
        "id": "Za6SXaJQUUnu",
        "outputId": "52644d0d-0395-4815-c5f4-fe6f4c251fd6"
      },
      "outputs": [
        {
          "output_type": "stream",
          "name": "stdout",
          "text": [
            "45\n",
            "False\n"
          ]
        }
      ],
      "source": [
        "n = int(input())\n",
        "s = 0\n",
        "t = n\n",
        "while (t!=0):\n",
        "    rem = t % 10\n",
        "    s += rem ** 3\n",
        "    t = t // 10\n",
        "\n",
        "if s == n:\n",
        "    print(True)\n",
        "else:\n",
        "    print(False)"
      ]
    },
    {
      "cell_type": "markdown",
      "metadata": {
        "id": "qnULV_ylUUnv"
      },
      "source": [
        "# 3. Print Fibonacci series up to given term."
      ]
    },
    {
      "cell_type": "code",
      "execution_count": 10,
      "metadata": {
        "colab": {
          "base_uri": "https://localhost:8080/"
        },
        "id": "14YPuCh0UUnv",
        "outputId": "00750856-d91e-444f-920d-0dcf24b54aa6"
      },
      "outputs": [
        {
          "output_type": "stream",
          "name": "stdout",
          "text": [
            "6\n",
            "\n",
            "0\n",
            "1\n",
            "1\n",
            "2\n",
            "3\n",
            "5\n"
          ]
        }
      ],
      "source": [
        "n: int = int(input())\n",
        "a: int = 0\n",
        "b: int = 1\n",
        "c: int = a+b\n",
        "print()\n",
        "print(a)\n",
        "print(b)\n",
        "for i in range(n-2):\n",
        "    print(c)\n",
        "    a = b\n",
        "    b = c\n",
        "    c = a+b"
      ]
    },
    {
      "cell_type": "markdown",
      "metadata": {
        "id": "P3H8VB4oUUnv"
      },
      "source": [
        "# 4. Write a program to find if given number is prime number or not."
      ]
    },
    {
      "cell_type": "code",
      "execution_count": 9,
      "metadata": {
        "colab": {
          "base_uri": "https://localhost:8080/"
        },
        "id": "0DwyeIojUUnw",
        "outputId": "3debf10f-5dd5-42ee-e34c-f298547cadde"
      },
      "outputs": [
        {
          "output_type": "stream",
          "name": "stdout",
          "text": [
            "Enter the number 876\n",
            "Number is not Prime\n"
          ]
        }
      ],
      "source": [
        "n = int(input(\"Enter the number \"))\n",
        "isPrime = True\n",
        "for i in range(2,n):\n",
        "    if n % i == 0:\n",
        "        isPrime = False\n",
        "        break\n",
        "\n",
        "if n <= 1:\n",
        "    isPrime = False\n",
        "\n",
        "if isPrime:\n",
        "    print(\"Number is Prime\")\n",
        "else:\n",
        "    print(\"Number is not Prime\")"
      ]
    },
    {
      "cell_type": "markdown",
      "metadata": {
        "id": "FuIKCzMiUUnw"
      },
      "source": [
        "# 5. Check whether given number is palindrome or not."
      ]
    },
    {
      "cell_type": "code",
      "execution_count": 8,
      "metadata": {
        "colab": {
          "base_uri": "https://localhost:8080/"
        },
        "id": "dXs8469wUUnx",
        "outputId": "4777aba5-63ff-47e9-8e09-6fa23557ab62"
      },
      "outputs": [
        {
          "output_type": "stream",
          "name": "stdout",
          "text": [
            "Enter the number: 234\n",
            "432\n"
          ]
        }
      ],
      "source": [
        "n = int(input(\"Enter the number: \"))\n",
        "t = n\n",
        "num = 0\n",
        "while(t!=0):\n",
        "    rem = t % 10\n",
        "    num  = num * 10 + rem\n",
        "    t = t//10\n",
        "print(num)"
      ]
    },
    {
      "cell_type": "markdown",
      "metadata": {
        "id": "WmRtPl4wUUnx"
      },
      "source": [
        "# 6. Write a program to print sum of digits."
      ]
    },
    {
      "cell_type": "code",
      "execution_count": 7,
      "metadata": {
        "colab": {
          "base_uri": "https://localhost:8080/"
        },
        "id": "qgYqpvrIUUnx",
        "outputId": "d2b17d5c-34e6-4024-e803-f8f404f13b4c"
      },
      "outputs": [
        {
          "output_type": "stream",
          "name": "stdout",
          "text": [
            "234\n",
            "9\n"
          ]
        }
      ],
      "source": [
        "print(sum([int(x) for x in input()]))"
      ]
    },
    {
      "cell_type": "markdown",
      "metadata": {
        "id": "glef0bcOUUny"
      },
      "source": [
        "# 7. Count and print all numbers divisible by 5 or 7 between 1 to 100."
      ]
    },
    {
      "cell_type": "code",
      "execution_count": 6,
      "metadata": {
        "colab": {
          "base_uri": "https://localhost:8080/"
        },
        "id": "c-qMrEoiUUny",
        "outputId": "8af680ce-4a9b-48a3-a851-5c1a59efce5f"
      },
      "outputs": [
        {
          "output_type": "stream",
          "name": "stdout",
          "text": [
            "5\n",
            "7\n",
            "10\n",
            "14\n",
            "15\n",
            "20\n",
            "21\n",
            "25\n",
            "28\n",
            "30\n",
            "35\n",
            "40\n",
            "42\n",
            "45\n",
            "49\n",
            "50\n",
            "55\n",
            "56\n",
            "60\n",
            "63\n",
            "65\n",
            "70\n",
            "75\n",
            "77\n",
            "80\n",
            "84\n",
            "85\n",
            "90\n",
            "91\n",
            "95\n",
            "98\n",
            "100\n",
            "\n",
            "Total number divisible by 5 and 7 between 1 - 100 32\n"
          ]
        }
      ],
      "source": [
        "count = 0\n",
        "for i in range(1,101):\n",
        "    if i % 5 == 0 or i % 7 == 0:\n",
        "        print(i)\n",
        "        count+=1\n",
        "print()\n",
        "print('Total number divisible by 5 and 7 between 1 - 100',count)"
      ]
    },
    {
      "cell_type": "markdown",
      "metadata": {
        "id": "IaJJ936vUUny"
      },
      "source": [
        "# 8. Convert all lower cases to upper case in a string."
      ]
    },
    {
      "cell_type": "code",
      "execution_count": 5,
      "metadata": {
        "colab": {
          "base_uri": "https://localhost:8080/"
        },
        "id": "3jGJvN1oUUny",
        "outputId": "289ad657-fd18-4218-cbf0-df31a7fc3f3d"
      },
      "outputs": [
        {
          "output_type": "stream",
          "name": "stdout",
          "text": [
            "arnav\n",
            "ARNAV\n"
          ]
        }
      ],
      "source": [
        "print(''.join([chr(ord(i)-32) for i in input()]))"
      ]
    },
    {
      "cell_type": "markdown",
      "metadata": {
        "id": "_gopfwqqUUny"
      },
      "source": [
        "# 9. Print all prime numbers between 1 and 100."
      ]
    },
    {
      "cell_type": "code",
      "execution_count": 2,
      "metadata": {
        "colab": {
          "base_uri": "https://localhost:8080/"
        },
        "id": "zYRDszVLUUny",
        "outputId": "924617db-b717-4740-a405-72f474ce8334"
      },
      "outputs": [
        {
          "output_type": "stream",
          "name": "stdout",
          "text": [
            "1\n",
            "3\n",
            "5\n",
            "7\n",
            "11\n",
            "13\n",
            "17\n",
            "19\n",
            "23\n",
            "29\n",
            "31\n",
            "37\n",
            "41\n",
            "43\n",
            "47\n",
            "53\n",
            "59\n",
            "61\n",
            "67\n",
            "71\n",
            "73\n",
            "79\n",
            "83\n",
            "89\n",
            "97\n"
          ]
        }
      ],
      "source": [
        "for i in range(1,101):\n",
        "    if i % 2 != 0:\n",
        "        isPrime: bool = True\n",
        "        for k in range(2,int(i**0.5) + 1):\n",
        "            if i % k == 0:\n",
        "                isPrime = False\n",
        "                break\n",
        "        if isPrime:\n",
        "            print(i)"
      ]
    },
    {
      "cell_type": "markdown",
      "metadata": {
        "id": "iIGtwB_cUUnz"
      },
      "source": [
        "# 10. Print the table for a given number."
      ]
    },
    {
      "cell_type": "code",
      "execution_count": 1,
      "metadata": {
        "colab": {
          "base_uri": "https://localhost:8080/"
        },
        "id": "rrBLJACGUUnz",
        "outputId": "fb95efc0-faf9-417b-9a9a-f4fdbb668a18"
      },
      "outputs": [
        {
          "output_type": "stream",
          "name": "stdout",
          "text": [
            "5\n",
            "10\n",
            "15\n",
            "20\n",
            "25\n",
            "30\n",
            "35\n",
            "40\n",
            "45\n",
            "50\n"
          ]
        }
      ],
      "source": [
        "n=5\n",
        "for i in range(1,11):\n",
        "    print(n*i)"
      ]
    }
  ],
  "metadata": {
    "language_info": {
      "name": "python"
    },
    "colab": {
      "provenance": []
    },
    "kernelspec": {
      "name": "python3",
      "display_name": "Python 3"
    }
  },
  "nbformat": 4,
  "nbformat_minor": 0
}