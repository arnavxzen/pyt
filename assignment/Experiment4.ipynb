{
  "cells": [
    {
      "cell_type": "markdown",
      "metadata": {
        "id": "Ry3wr6JmUUnr"
      },
      "source": [
        "# 1. Find a factorial of given number."
      ]
    },
    {
      "cell_type": "code",
      "execution_count": null,
      "metadata": {
        "id": "kcoQ-GQaUUnt"
      },
      "outputs": [],
      "source": [
        "fac: int = 1\n",
        "i: int  = int(input())\n",
        "while(i):\n",
        "    fac*=i\n",
        "    i-=1\n",
        "print(fac)"
      ]
    },
    {
      "cell_type": "markdown",
      "metadata": {
        "id": "WeYzm66RUUnu"
      },
      "source": [
        "# 2. Find whether the given number is Armstrong number."
      ]
    },
    {
      "cell_type": "code",
      "execution_count": null,
      "metadata": {
        "id": "Za6SXaJQUUnu"
      },
      "outputs": [],
      "source": [
        "n = int(input())\n",
        "s = 0\n",
        "t = n\n",
        "while (t!=0):\n",
        "    rem = t % 10\n",
        "    s += rem ** 3\n",
        "    t = t // 10\n",
        "\n",
        "if s == n:\n",
        "    print(True)\n",
        "else:\n",
        "    print(False)"
      ]
    },
    {
      "cell_type": "markdown",
      "metadata": {
        "id": "qnULV_ylUUnv"
      },
      "source": [
        "# 3. Print Fibonacci series up to given term."
      ]
    },
    {
      "cell_type": "code",
      "execution_count": null,
      "metadata": {
        "id": "14YPuCh0UUnv"
      },
      "outputs": [],
      "source": [
        "n: int = int(input())\n",
        "a: int = 0\n",
        "b: int = 1\n",
        "c: int = a+b\n",
        "print()\n",
        "print(a)\n",
        "print(b)\n",
        "for i in range(n-2):\n",
        "    print(c)\n",
        "    a = b\n",
        "    b = c\n",
        "    c = a+b"
      ]
    },
    {
      "cell_type": "markdown",
      "metadata": {
        "id": "P3H8VB4oUUnv"
      },
      "source": [
        "# 4. Write a program to find if given number is prime number or not."
      ]
    },
    {
      "cell_type": "code",
      "execution_count": null,
      "metadata": {
        "id": "0DwyeIojUUnw"
      },
      "outputs": [],
      "source": [
        "n = int(input(\"Enter the number \"))\n",
        "isPrime = True\n",
        "for i in range(2,n):\n",
        "    if n % i == 0:\n",
        "        isPrime = False\n",
        "        break\n",
        "\n",
        "if n <= 1:\n",
        "    isPrime = False\n",
        "\n",
        "if isPrime:\n",
        "    print(\"Number is Prime\")\n",
        "else:\n",
        "    print(\"Number is not Prime\")"
      ]
    },
    {
      "cell_type": "markdown",
      "metadata": {
        "id": "FuIKCzMiUUnw"
      },
      "source": [
        "# 5. Check whether given number is palindrome or not."
      ]
    },
    {
      "cell_type": "code",
      "execution_count": null,
      "metadata": {
        "id": "dXs8469wUUnx"
      },
      "outputs": [],
      "source": [
        "n = int(input(\"Enter the number: \"))\n",
        "t = n\n",
        "num = 0\n",
        "while(t!=0):\n",
        "    rem = t % 10\n",
        "    num  = num * 10 + rem\n",
        "    t = t//10\n",
        "print(num)"
      ]
    },
    {
      "cell_type": "markdown",
      "metadata": {
        "id": "WmRtPl4wUUnx"
      },
      "source": [
        "# 6. Write a program to print sum of digits."
      ]
    },
    {
      "cell_type": "code",
      "execution_count": null,
      "metadata": {
        "id": "qgYqpvrIUUnx"
      },
      "outputs": [],
      "source": [
        "print(sum([int(x) for x in input()]))"
      ]
    },
    {
      "cell_type": "markdown",
      "metadata": {
        "id": "glef0bcOUUny"
      },
      "source": [
        "# 7. Count and print all numbers divisible by 5 or 7 between 1 to 100."
      ]
    },
    {
      "cell_type": "code",
      "execution_count": null,
      "metadata": {
        "id": "c-qMrEoiUUny"
      },
      "outputs": [],
      "source": [
        "count = 0\n",
        "for i in range(1,101):\n",
        "    if i % 5 == 0 or i % 7 == 0:\n",
        "        print(i)\n",
        "        count+=1\n",
        "print()\n",
        "print('Total number divisible by 5 and 7 between 1 - 100',count)"
      ]
    },
    {
      "cell_type": "markdown",
      "metadata": {
        "id": "IaJJ936vUUny"
      },
      "source": [
        "# 8. Convert all lower cases to upper case in a string."
      ]
    },
    {
      "cell_type": "code",
      "execution_count": null,
      "metadata": {
        "id": "3jGJvN1oUUny"
      },
      "outputs": [],
      "source": [
        "print(''.join([chr(ord(i)-32) for i in input()]))"
      ]
    },
    {
      "cell_type": "markdown",
      "metadata": {
        "id": "_gopfwqqUUny"
      },
      "source": [
        "# 9. Print all prime numbers between 1 and 100."
      ]
    },
    {
      "cell_type": "code",
      "execution_count": null,
      "metadata": {
        "id": "zYRDszVLUUny"
      },
      "outputs": [],
      "source": [
        "for i in range(1,101):\n",
        "    if i % 2 != 0:\n",
        "        isPrime: bool = True\n",
        "        for k in range(2,int(i**0.5) + 1):\n",
        "            if i % k == 0:\n",
        "                isPrime = False\n",
        "                break\n",
        "        if isPrime:\n",
        "            print(i)"
      ]
    },
    {
      "cell_type": "markdown",
      "metadata": {
        "id": "iIGtwB_cUUnz"
      },
      "source": [
        "# 10. Print the table for a given number."
      ]
    },
    {
      "cell_type": "code",
      "execution_count": null,
      "metadata": {
        "id": "rrBLJACGUUnz"
      },
      "outputs": [],
      "source": [
        "n=5\n",
        "for i in range(1,11):\n",
        "    print(n*i)"
      ]
    }
  ],
  "metadata": {
    "language_info": {
      "name": "python"
    },
    "colab": {
      "provenance": []
    }
  },
  "nbformat": 4,
  "nbformat_minor": 0
}