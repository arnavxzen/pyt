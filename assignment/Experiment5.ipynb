{
  "cells": [
    {
      "cell_type": "markdown",
      "metadata": {
        "id": "zdyoMVP0VjIL"
      },
      "source": [
        "# 1. Program to count and display the number of capital letters in a given string."
      ]
    },
    {
      "cell_type": "code",
      "execution_count": null,
      "metadata": {
        "id": "z3r4elgCVjIO"
      },
      "outputs": [],
      "source": [
        "s = \"Hello World!\"\n",
        "count = sum(1 for c in s if c.isupper())\n",
        "print(f\"Number of capital letters: {count}\")"
      ]
    },
    {
      "cell_type": "markdown",
      "metadata": {
        "id": "UOMV4oe9VjIP"
      },
      "source": [
        "# 2. Count total number of vowels in a given string."
      ]
    },
    {
      "cell_type": "code",
      "execution_count": null,
      "metadata": {
        "id": "tT6CdASfVjIQ"
      },
      "outputs": [],
      "source": [
        "vowels = 'aeiouAEIOU'\n",
        "count = sum(1 for c in s if c in vowels)\n",
        "print(f\"Number of vowels: {count}\")"
      ]
    },
    {
      "cell_type": "markdown",
      "metadata": {
        "id": "to9cskZOVjIQ"
      },
      "source": [
        "# 3. Input a sentence and print words in separate lines."
      ]
    },
    {
      "cell_type": "code",
      "execution_count": null,
      "metadata": {
        "id": "h7xOBeCFVjIR"
      },
      "outputs": [],
      "source": [
        "s = \"Hello World!\"\n",
        "words = s.split()\n",
        "for word in words:\n",
        "    print(word)"
      ]
    },
    {
      "cell_type": "markdown",
      "metadata": {
        "id": "cMZS3SrJVjIR"
      },
      "source": [
        "# 4. Program to enter a string and a substring and print the number of times the substring occurs in the given string."
      ]
    },
    {
      "cell_type": "code",
      "execution_count": null,
      "metadata": {
        "id": "_o3D_5RYVjIR"
      },
      "outputs": [],
      "source": [
        "s = \"ABCDCDC\"\n",
        "sub = \"CDC\"\n",
        "count = s.count(sub)\n",
        "print(f\"Number of times '{sub}' occurs: {count}\")"
      ]
    },
    {
      "cell_type": "markdown",
      "metadata": {
        "id": "gAuIaT8PVjIS"
      },
      "source": [
        "# 5. Program to count the number of occurrences of each alphabet (case insensitive) and display the same."
      ]
    },
    {
      "cell_type": "code",
      "execution_count": null,
      "metadata": {
        "id": "qVViiRAnVjIS"
      },
      "outputs": [],
      "source": [
        "s = \"ABaBCbGc\"\n",
        "s = s.lower()\n",
        "alphabet_count = {}\n",
        "for c in s:\n",
        "    if c.isalpha():\n",
        "        alphabet_count[c] = alphabet_count.get(c, 0) + 1\n",
        "for k, v in sorted(alphabet_count.items()):\n",
        "    print(f\"{v}{k.upper()}\")"
      ]
    },
    {
      "cell_type": "markdown",
      "metadata": {
        "id": "vXz8nDOnVjIT"
      },
      "source": [
        "# 6. Program to count number of unique words in a given sentence using sets."
      ]
    },
    {
      "cell_type": "code",
      "execution_count": null,
      "metadata": {
        "id": "D8TjcVqMVjIT"
      },
      "outputs": [],
      "source": [
        "s = \"This is a test. This test is only a test.\"\n",
        "words = set(s.split())\n",
        "print(f\"Number of unique words: {len(words)}\")"
      ]
    },
    {
      "cell_type": "markdown",
      "metadata": {
        "id": "LZw9FY5JVjIT"
      },
      "source": [
        "# 7. Create 2 sets s1 and s2 of n fruits each by taking input from user and find:"
      ]
    },
    {
      "cell_type": "code",
      "execution_count": null,
      "metadata": {
        "id": "X-QH2iTVVjIT"
      },
      "outputs": [],
      "source": [
        "n = int(input(\"Enter number of fruits in each set: \"))\n",
        "s1 = set(input(f\"Enter fruit {i+1} for set 1: \") for i in range(n))\n",
        "s2 = set(input(f\"Enter fruit {i+1} for set 2: \") for i in range(n))\n",
        "\n",
        "print(\"Fruits in both sets:\", s1 & s2)\n",
        "print(\"Fruits only in set 1 but not in set 2:\", s1 - s2)\n",
        "print(\"Count of all fruits from both sets:\", len(s1 | s2))"
      ]
    },
    {
      "cell_type": "markdown",
      "metadata": {
        "id": "SN38kkOiVjIT"
      },
      "source": [
        "# 8. Take two sets and apply various set operations on them."
      ]
    },
    {
      "cell_type": "code",
      "execution_count": null,
      "metadata": {
        "id": "XEooRstUVjIU"
      },
      "outputs": [],
      "source": [
        "S1 = {\"Red\", \"yellow\", \"orange\", \"blue\"}\n",
        "S2 = {\"violet\", \"blue\", \"purple\"}\n",
        "\n",
        "print(\"Union:\", S1 | S2)\n",
        "print(\"Intersection:\", S1 & S2)\n",
        "print(\"Difference (S1 - S2):\", S1 - S2)\n",
        "print(\"Difference (S2 - S1):\", S2 - S1)\n",
        "print(\"Symmetric Difference:\", S1 ^ S2)"
      ]
    }
  ],
  "metadata": {
    "language_info": {
      "name": "python"
    },
    "colab": {
      "provenance": []
    }
  },
  "nbformat": 4,
  "nbformat_minor": 0
}