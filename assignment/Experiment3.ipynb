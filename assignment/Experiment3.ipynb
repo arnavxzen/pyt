{
  "cells": [
    {
      "cell_type": "markdown",
      "metadata": {
        "id": "IYRA50JgUh7o"
      },
      "source": [
        "# 1. Check whether a number is divisible by 3 and 5 both"
      ]
    },
    {
      "cell_type": "code",
      "execution_count": null,
      "metadata": {
        "id": "uwTfiPrBUh7p"
      },
      "outputs": [],
      "source": [
        "print('Enter the number')\n",
        "if int(input()) % (3 and 5) == 0:\n",
        "    print(True)\n",
        "else:\n",
        "    print(False)"
      ]
    },
    {
      "cell_type": "markdown",
      "metadata": {
        "id": "br95w20MUh7p"
      },
      "source": [
        "# 2. Check whether a number is a multiple of 5"
      ]
    },
    {
      "cell_type": "code",
      "execution_count": null,
      "metadata": {
        "id": "LMVWWAOBUh7q"
      },
      "outputs": [],
      "source": [
        "if int(input(\"Enter the number to check: \")) % 5 == 0:\n",
        "    print(True)\n",
        "else:\n",
        "    print(False)\n"
      ]
    },
    {
      "cell_type": "markdown",
      "metadata": {
        "id": "Y_uDD3zKUh7q"
      },
      "source": [
        "# 3. Find the greatest among two numbers"
      ]
    },
    {
      "cell_type": "code",
      "execution_count": null,
      "metadata": {
        "id": "BS7AVhF-Uh7q"
      },
      "outputs": [],
      "source": [
        "a,b = map(int,input(\"Enter the two numbers a b: \").split(\" \"))\n",
        "if a > b:\n",
        "    print(a)\n",
        "elif a<b:\n",
        "    print(b)\n",
        "else:\n",
        "    print(\"numbers are equal\")\n"
      ]
    },
    {
      "cell_type": "markdown",
      "metadata": {
        "id": "H3_tBp08Uh7q"
      },
      "source": [
        "# 4. Find the greatest among three numbers (assuming no two are equal)"
      ]
    },
    {
      "cell_type": "code",
      "execution_count": null,
      "metadata": {
        "id": "xU5Sg1fHUh7q"
      },
      "outputs": [],
      "source": [
        "print(\"Enter the two numbers a b c\")\n",
        "a,b,c = map(int,input().split(\" \"))\n",
        "print('Greatest Among a b c are: ',max(a,b,c))"
      ]
    },
    {
      "cell_type": "markdown",
      "metadata": {
        "id": "BBE8qczNUh7q"
      },
      "source": [
        "# 5. Check whether the quadratic equation has real or imaginary roots"
      ]
    },
    {
      "cell_type": "code",
      "execution_count": null,
      "metadata": {
        "id": "_9AJ6W03Uh7q"
      },
      "outputs": [],
      "source": [
        "a,b,c = map(int,input(\"Enter a b c: \").split(\" \"))\n",
        "root_one = (-b + ((b**2 - (4*a*c)) ** 0.2))/ 2 * a\n",
        "root_two = (-b - ((b**2 - (4*a*c)) ** 0.2))/ 2 * a\n",
        "\n",
        "print('Roots are:',root_one,root_two)\n",
        "\n",
        "if (b**2 - 4*a*c) > 0:\n",
        "    print(\"Real Roots\")\n",
        "else:\n",
        "    print(\"Imaginary Roots\")\n"
      ]
    },
    {
      "cell_type": "markdown",
      "metadata": {
        "id": "kptiU2yHUh7r"
      },
      "source": [
        "# 6. Check whether a given year is a leap year or not"
      ]
    },
    {
      "cell_type": "code",
      "execution_count": null,
      "metadata": {
        "id": "gNGL1O3vUh7r"
      },
      "outputs": [],
      "source": [
        "year = int(input(\"Enter the year: \"))\n",
        "if year % 4 == 0:\n",
        "    if year % 100 == 0:\n",
        "        if year % 400 != 0:\n",
        "            print(False)\n",
        "    else:\n",
        "        print(True)\n",
        "else:\n",
        "    if year % 100 == 0 and year % 400 == 0:\n",
        "        print(True)\n",
        "    else:\n",
        "        print(False)"
      ]
    },
    {
      "cell_type": "markdown",
      "metadata": {
        "id": "rR4RkYzpUh7r"
      },
      "source": [
        "# 7. Write a program which takes any date as input and display next date of the calendar"
      ]
    },
    {
      "cell_type": "code",
      "execution_count": null,
      "metadata": {
        "id": "2-38-iAhUh7r"
      },
      "outputs": [],
      "source": [
        "import datetime\n",
        "\n",
        "d,m,y = map(int,input(\"Enter the date as day month and year: \").split(\" \"))\n",
        "new_d = datetime.date(y,m,d)\n",
        "print(new_d + datetime.timedelta(1))"
      ]
    },
    {
      "cell_type": "markdown",
      "metadata": {
        "id": "53JmJhGvUh7r"
      },
      "source": [
        "# 8. Print the grade sheet of a student"
      ]
    },
    {
      "cell_type": "code",
      "execution_count": null,
      "metadata": {
        "id": "mL-UH8tYUh7r"
      },
      "outputs": [],
      "source": [
        "total_marks: int = int(input(\"Enter the maximum marks of the subject: \")) * 5\n",
        "marks_obtained: int = 0\n",
        "for i in range(5):\n",
        "    marks_obtained += int(input(f\"Enter the marks of Subject {i+1}: \"))\n",
        "\n",
        "percentage: float = (marks_obtained / total_marks) * 100\n",
        "c: float = percentage/10\n",
        "\n",
        "if c >= 3.5 and c <=5.0:\n",
        "    print(\"C+\")\n",
        "elif c >= 5.1 and c <= 6.0:\n",
        "    print(\"B\")\n",
        "elif c >= 6.1 and c <=7.0:\n",
        "    print(\"B+\")\n",
        "elif c >= 7.1 and c <=8.0:\n",
        "    print(\"A\")\n",
        "elif c >= 8.1 and c <=9.0:\n",
        "    print(\"A+\")\n",
        "elif c >= 9.1 and c <=10.0:\n",
        "    print(\"O\")\n",
        "else:\n",
        "    print(\"Invalid CGPA\")"
      ]
    }
  ],
  "metadata": {
    "language_info": {
      "name": "python"
    },
    "colab": {
      "provenance": []
    }
  },
  "nbformat": 4,
  "nbformat_minor": 0
}